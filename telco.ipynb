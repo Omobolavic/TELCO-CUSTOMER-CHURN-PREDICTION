{
 "cells": [
  {
   "cell_type": "code",
   "execution_count": 1,
   "metadata": {},
   "outputs": [],
   "source": [
    "# import python libraries\n",
    "import pandas as pd\n",
    "import numpy as np\n",
    "import matplotlib.pyplot as plt\n",
    "import seaborn as sns\n",
    "# To hide warning\n",
    "import warnings\n",
    "warnings.filterwarnings('ignore')"
   ]
  },
  {
   "cell_type": "code",
   "execution_count": 2,
   "metadata": {},
   "outputs": [
    {
     "data": {
      "text/html": [
       "<div>\n",
       "<style scoped>\n",
       "    .dataframe tbody tr th:only-of-type {\n",
       "        vertical-align: middle;\n",
       "    }\n",
       "\n",
       "    .dataframe tbody tr th {\n",
       "        vertical-align: top;\n",
       "    }\n",
       "\n",
       "    .dataframe thead th {\n",
       "        text-align: right;\n",
       "    }\n",
       "</style>\n",
       "<table border=\"1\" class=\"dataframe\">\n",
       "  <thead>\n",
       "    <tr style=\"text-align: right;\">\n",
       "      <th></th>\n",
       "      <th>Dependents</th>\n",
       "      <th>tenure</th>\n",
       "      <th>OnlineSecurity</th>\n",
       "      <th>OnlineBackup</th>\n",
       "      <th>InternetService</th>\n",
       "      <th>DeviceProtection</th>\n",
       "      <th>TechSupport</th>\n",
       "      <th>Contract</th>\n",
       "      <th>PaperlessBilling</th>\n",
       "      <th>MonthlyCharges</th>\n",
       "      <th>Churn</th>\n",
       "    </tr>\n",
       "  </thead>\n",
       "  <tbody>\n",
       "    <tr>\n",
       "      <th>0</th>\n",
       "      <td>Yes</td>\n",
       "      <td>9</td>\n",
       "      <td>No</td>\n",
       "      <td>No</td>\n",
       "      <td>DSL</td>\n",
       "      <td>Yes</td>\n",
       "      <td>Yes</td>\n",
       "      <td>Month-to-month</td>\n",
       "      <td>Yes</td>\n",
       "      <td>72.90</td>\n",
       "      <td>Yes</td>\n",
       "    </tr>\n",
       "    <tr>\n",
       "      <th>1</th>\n",
       "      <td>No</td>\n",
       "      <td>14</td>\n",
       "      <td>No</td>\n",
       "      <td>Yes</td>\n",
       "      <td>Fiber optic</td>\n",
       "      <td>Yes</td>\n",
       "      <td>No</td>\n",
       "      <td>Month-to-month</td>\n",
       "      <td>Yes</td>\n",
       "      <td>82.65</td>\n",
       "      <td>No</td>\n",
       "    </tr>\n",
       "    <tr>\n",
       "      <th>2</th>\n",
       "      <td>No</td>\n",
       "      <td>64</td>\n",
       "      <td>Yes</td>\n",
       "      <td>No</td>\n",
       "      <td>DSL</td>\n",
       "      <td>Yes</td>\n",
       "      <td>Yes</td>\n",
       "      <td>Two year</td>\n",
       "      <td>No</td>\n",
       "      <td>47.85</td>\n",
       "      <td>Yes</td>\n",
       "    </tr>\n",
       "    <tr>\n",
       "      <th>3</th>\n",
       "      <td>No</td>\n",
       "      <td>72</td>\n",
       "      <td>Yes</td>\n",
       "      <td>Yes</td>\n",
       "      <td>DSL</td>\n",
       "      <td>Yes</td>\n",
       "      <td>Yes</td>\n",
       "      <td>Two year</td>\n",
       "      <td>No</td>\n",
       "      <td>69.65</td>\n",
       "      <td>No</td>\n",
       "    </tr>\n",
       "    <tr>\n",
       "      <th>4</th>\n",
       "      <td>No</td>\n",
       "      <td>3</td>\n",
       "      <td>No internet service</td>\n",
       "      <td>No internet service</td>\n",
       "      <td>No</td>\n",
       "      <td>No internet service</td>\n",
       "      <td>No internet service</td>\n",
       "      <td>Month-to-month</td>\n",
       "      <td>Yes</td>\n",
       "      <td>23.60</td>\n",
       "      <td>No</td>\n",
       "    </tr>\n",
       "  </tbody>\n",
       "</table>\n",
       "</div>"
      ],
      "text/plain": [
       "  Dependents  tenure       OnlineSecurity         OnlineBackup  \\\n",
       "0        Yes       9                   No                   No   \n",
       "1         No      14                   No                  Yes   \n",
       "2         No      64                  Yes                   No   \n",
       "3         No      72                  Yes                  Yes   \n",
       "4         No       3  No internet service  No internet service   \n",
       "\n",
       "  InternetService     DeviceProtection          TechSupport        Contract  \\\n",
       "0             DSL                  Yes                  Yes  Month-to-month   \n",
       "1     Fiber optic                  Yes                   No  Month-to-month   \n",
       "2             DSL                  Yes                  Yes        Two year   \n",
       "3             DSL                  Yes                  Yes        Two year   \n",
       "4              No  No internet service  No internet service  Month-to-month   \n",
       "\n",
       "  PaperlessBilling  MonthlyCharges Churn  \n",
       "0              Yes           72.90   Yes  \n",
       "1              Yes           82.65    No  \n",
       "2               No           47.85   Yes  \n",
       "3               No           69.65    No  \n",
       "4              Yes           23.60    No  "
      ]
     },
     "execution_count": 2,
     "metadata": {},
     "output_type": "execute_result"
    }
   ],
   "source": [
    "df = pd.read_csv(\"Telco Customer Data.csv\")       # import the dataset\n",
    "df.head()"
   ]
  },
  {
   "cell_type": "code",
   "execution_count": 3,
   "metadata": {},
   "outputs": [
    {
     "name": "stdout",
     "output_type": "stream",
     "text": [
      "The dataset contains 4930 rows and 11 columns\n"
     ]
    }
   ],
   "source": [
    "# Checking the number of rows and columns in the whole dataset\n",
    "print('The dataset contains {} rows and {} columns'.format(df.shape[0], df.shape[1]))\n"
   ]
  },
  {
   "cell_type": "markdown",
   "metadata": {},
   "source": [
    "From above, we can see that the dataset contains 11 attributes(columns) and 4930 rows. The column called the 'Churn' is the target column. It is the column that holds the predictions from the classification algorithms. The column is a result of binary classification. For a customer that has left the company, he/she would take a value that is equal to 1, answering 'yes' to the question that the customer has left the company. For a customer still using one or more of the company's servives, he/she would have a churn value that is equal to 0, answering 'no' to the question that the customer has left the company "
   ]
  },
  {
   "cell_type": "code",
   "execution_count": 4,
   "metadata": {},
   "outputs": [
    {
     "name": "stdout",
     "output_type": "stream",
     "text": [
      "<class 'pandas.core.frame.DataFrame'>\n",
      "RangeIndex: 4930 entries, 0 to 4929\n",
      "Data columns (total 11 columns):\n",
      " #   Column            Non-Null Count  Dtype  \n",
      "---  ------            --------------  -----  \n",
      " 0   Dependents        4930 non-null   object \n",
      " 1   tenure            4930 non-null   int64  \n",
      " 2   OnlineSecurity    4930 non-null   object \n",
      " 3   OnlineBackup      4930 non-null   object \n",
      " 4   InternetService   4930 non-null   object \n",
      " 5   DeviceProtection  4930 non-null   object \n",
      " 6   TechSupport       4930 non-null   object \n",
      " 7   Contract          4930 non-null   object \n",
      " 8   PaperlessBilling  4930 non-null   object \n",
      " 9   MonthlyCharges    4930 non-null   float64\n",
      " 10  Churn             4930 non-null   object \n",
      "dtypes: float64(1), int64(1), object(9)\n",
      "memory usage: 423.8+ KB\n"
     ]
    }
   ],
   "source": [
    "df.info()"
   ]
  },
  {
   "cell_type": "markdown",
   "metadata": {},
   "source": [
    "There is no empty column"
   ]
  },
  {
   "cell_type": "code",
   "execution_count": 5,
   "metadata": {},
   "outputs": [],
   "source": [
    "df.duplicated().sum()\n",
    "df.drop_duplicates(inplace=True)"
   ]
  },
  {
   "cell_type": "code",
   "execution_count": 6,
   "metadata": {},
   "outputs": [
    {
     "name": "stdout",
     "output_type": "stream",
     "text": [
      "<class 'pandas.core.frame.DataFrame'>\n",
      "Int64Index: 4853 entries, 0 to 4929\n",
      "Data columns (total 11 columns):\n",
      " #   Column            Non-Null Count  Dtype  \n",
      "---  ------            --------------  -----  \n",
      " 0   Dependents        4853 non-null   object \n",
      " 1   tenure            4853 non-null   int64  \n",
      " 2   OnlineSecurity    4853 non-null   object \n",
      " 3   OnlineBackup      4853 non-null   object \n",
      " 4   InternetService   4853 non-null   object \n",
      " 5   DeviceProtection  4853 non-null   object \n",
      " 6   TechSupport       4853 non-null   object \n",
      " 7   Contract          4853 non-null   object \n",
      " 8   PaperlessBilling  4853 non-null   object \n",
      " 9   MonthlyCharges    4853 non-null   float64\n",
      " 10  Churn             4853 non-null   object \n",
      "dtypes: float64(1), int64(1), object(9)\n",
      "memory usage: 455.0+ KB\n"
     ]
    }
   ],
   "source": [
    "df.info()"
   ]
  },
  {
   "cell_type": "markdown",
   "metadata": {},
   "source": [
    "## Descriptive Statistics"
   ]
  },
  {
   "cell_type": "markdown",
   "metadata": {},
   "source": [
    "Here, we shall be taking a look at the columns statistically. The numeric columns(float and int data type columns) summary can be found using the describe method as shown below:"
   ]
  },
  {
   "cell_type": "code",
   "execution_count": 7,
   "metadata": {},
   "outputs": [
    {
     "data": {
      "text/html": [
       "<div>\n",
       "<style scoped>\n",
       "    .dataframe tbody tr th:only-of-type {\n",
       "        vertical-align: middle;\n",
       "    }\n",
       "\n",
       "    .dataframe tbody tr th {\n",
       "        vertical-align: top;\n",
       "    }\n",
       "\n",
       "    .dataframe thead th {\n",
       "        text-align: right;\n",
       "    }\n",
       "</style>\n",
       "<table border=\"1\" class=\"dataframe\">\n",
       "  <thead>\n",
       "    <tr style=\"text-align: right;\">\n",
       "      <th></th>\n",
       "      <th>count</th>\n",
       "      <th>mean</th>\n",
       "      <th>std</th>\n",
       "      <th>min</th>\n",
       "      <th>25%</th>\n",
       "      <th>50%</th>\n",
       "      <th>75%</th>\n",
       "      <th>max</th>\n",
       "    </tr>\n",
       "  </thead>\n",
       "  <tbody>\n",
       "    <tr>\n",
       "      <th>tenure</th>\n",
       "      <td>4853.0</td>\n",
       "      <td>32.679992</td>\n",
       "      <td>24.395554</td>\n",
       "      <td>0.0</td>\n",
       "      <td>9.00</td>\n",
       "      <td>29.0</td>\n",
       "      <td>56.00</td>\n",
       "      <td>72.00</td>\n",
       "    </tr>\n",
       "    <tr>\n",
       "      <th>MonthlyCharges</th>\n",
       "      <td>4853.0</td>\n",
       "      <td>65.321543</td>\n",
       "      <td>29.783655</td>\n",
       "      <td>18.8</td>\n",
       "      <td>40.05</td>\n",
       "      <td>70.6</td>\n",
       "      <td>90.05</td>\n",
       "      <td>118.65</td>\n",
       "    </tr>\n",
       "  </tbody>\n",
       "</table>\n",
       "</div>"
      ],
      "text/plain": [
       "                 count       mean        std   min    25%   50%    75%     max\n",
       "tenure          4853.0  32.679992  24.395554   0.0   9.00  29.0  56.00   72.00\n",
       "MonthlyCharges  4853.0  65.321543  29.783655  18.8  40.05  70.6  90.05  118.65"
      ]
     },
     "execution_count": 7,
     "metadata": {},
     "output_type": "execute_result"
    }
   ],
   "source": [
    "df.describe().T"
   ]
  },
  {
   "cell_type": "markdown",
   "metadata": {},
   "source": [
    "From the above, we can make some deductions;\n",
    "* The tenure has a minimum of 1 month to 3 years (so the customers considered are those who have used at least one month and a maximum of 3 years (72 months)\n",
    "* The monthly charges seem to be increasing at par with the tenure month. This makes absolute sense as customers who have stayed longer would probably spend more."
   ]
  },
  {
   "cell_type": "markdown",
   "metadata": {},
   "source": [
    "### Data Set Splitting"
   ]
  },
  {
   "cell_type": "markdown",
   "metadata": {},
   "source": [
    "The aim of this action is to have a a part of the data as our train set while we have a part as our train set. The test set is what we shall use to test the efficiency of our models. The objective reason for taking this action is to prevent against what is called **snopping bias**. This makes sure the evaluation would be on a set that the model has not come across. It does not make sense to test the model with a dataset it has seen before. This helps guide againt overfitting and also prevent the data model from behaving 'foolishly' in the face of data it has not seen before. We do this as follows:"
   ]
  },
  {
   "cell_type": "code",
   "execution_count": 8,
   "metadata": {},
   "outputs": [
    {
     "name": "stdout",
     "output_type": "stream",
     "text": [
      "Train set: 3882 rows x 11 columns\n",
      " Test set: 971 rows x 11 columns\n"
     ]
    }
   ],
   "source": [
    "#We import the functionality from scikit learn library\n",
    "from sklearn.model_selection import train_test_split\n",
    "\n",
    "#Then we proceed to split our dataset\n",
    "train_df, test_df = train_test_split(df, test_size=0.2, random_state=42)\n",
    "\n",
    "train_df.reset_index(drop=True, inplace=True)\n",
    "test_df.reset_index(drop=True, inplace=True)\n",
    "\n",
    "print('Train set: {} rows x {} columns'.format(train_df.shape[0],\n",
    "                                               train_df.shape[1]))\n",
    "print(' Test set: {} rows x {} columns'.format(test_df.shape[0],\n",
    "                                               test_df.shape[1]))"
   ]
  },
  {
   "cell_type": "markdown",
   "metadata": {},
   "source": [
    "From the above, we can see that the splitting allocated 80% of the dataset for training while the remaining 20% is there evaluate the model. Next up is the exploratory data analysis phase"
   ]
  },
  {
   "cell_type": "markdown",
   "metadata": {},
   "source": [
    "#### Target Attribute : churn value\n"
   ]
  },
  {
   "cell_type": "markdown",
   "metadata": {},
   "source": [
    "Here, let us take a look at the count of customers that have left and those still with the company: We previously stated that customers that have left have a churn value of **1** while those left have a churn value of **0**"
   ]
  },
  {
   "cell_type": "code",
   "execution_count": 9,
   "metadata": {},
   "outputs": [
    {
     "data": {
      "image/png": "[encoded data removed]",
      "text/plain": [
       "<Figure size 432x432 with 1 Axes>"
      ]
     },
     "metadata": {
      "needs_background": "light"
     },
     "output_type": "display_data"
    }
   ],
   "source": [
    "\n",
    "fig, ax = plt.subplots(figsize=(6, 6))\n",
    "\n",
    "sns.countplot(x='Churn', data=train_df, palette=['#00A5E0', '#DD403A'], ax=ax)\n",
    "ax.set_xticklabels(['Retained', 'Churned'])\n",
    "ax.set_xlabel('Status')\n",
    "ax.set_ylabel('Count');\n",
    "ax.set_ylim([0, 5000]);"
   ]
  },
  {
   "cell_type": "markdown",
   "metadata": {},
   "source": [
    "As we can see above, the percentage difference between the retained and churned customers is quite high. Let us get the actual percentage below;"
   ]
  },
  {
   "cell_type": "code",
   "execution_count": 10,
   "metadata": {},
   "outputs": [
    {
     "data": {
      "text/plain": [
       "No     73.647604\n",
       "Yes    26.352396\n",
       "Name: Churn, dtype: float64"
      ]
     },
     "execution_count": 10,
     "metadata": {},
     "output_type": "execute_result"
    }
   ],
   "source": [
    "train_df['Churn'].value_counts(normalize=True) * 100"
   ]
  },
  {
   "cell_type": "markdown",
   "metadata": {},
   "source": [
    "From above, we can see that 74% of the customers are retained while 26% of the customers have left the service of the company. We shall address this imbalance later before the onset of the machine learning. Let us do more exploration!\n"
   ]
  },
  {
   "cell_type": "markdown",
   "metadata": {},
   "source": [
    "Now, let us split the columns using their data types.This is because different data types have different visualization approaches. While int and float type columns are continuous, the others are categorical. We shall exclude the target attribute in both cases. A quick reminder of what our data types look like is shown below;"
   ]
  },
  {
   "cell_type": "code",
   "execution_count": 11,
   "metadata": {},
   "outputs": [
    {
     "name": "stdout",
     "output_type": "stream",
     "text": [
      "<class 'pandas.core.frame.DataFrame'>\n",
      "RangeIndex: 3882 entries, 0 to 3881\n",
      "Data columns (total 11 columns):\n",
      " #   Column            Non-Null Count  Dtype  \n",
      "---  ------            --------------  -----  \n",
      " 0   Dependents        3882 non-null   object \n",
      " 1   tenure            3882 non-null   int64  \n",
      " 2   OnlineSecurity    3882 non-null   object \n",
      " 3   OnlineBackup      3882 non-null   object \n",
      " 4   InternetService   3882 non-null   object \n",
      " 5   DeviceProtection  3882 non-null   object \n",
      " 6   TechSupport       3882 non-null   object \n",
      " 7   Contract          3882 non-null   object \n",
      " 8   PaperlessBilling  3882 non-null   object \n",
      " 9   MonthlyCharges    3882 non-null   float64\n",
      " 10  Churn             3882 non-null   object \n",
      "dtypes: float64(1), int64(1), object(9)\n",
      "memory usage: 333.7+ KB\n"
     ]
    }
   ],
   "source": [
    "train_df.info()"
   ]
  },
  {
   "cell_type": "code",
   "execution_count": 12,
   "metadata": {},
   "outputs": [],
   "source": [
    "col=list(train_df.columns)\n",
    "continuous=[]\n",
    "categorical=[]\n",
    "\n",
    "for i in col:\n",
    "    if train_df[i].dtype=='int64':\n",
    "        continuous.append(i)\n",
    "    elif train_df[i].dtype=='float64':\n",
    "        continuous.append(i)\n",
    "    else:\n",
    "        categorical.append(i) "
   ]
  },
  {
   "cell_type": "code",
   "execution_count": 13,
   "metadata": {},
   "outputs": [
    {
     "name": "stdout",
     "output_type": "stream",
     "text": [
      "['tenure', 'MonthlyCharges']\n",
      "\n",
      "\n",
      "['Dependents', 'OnlineSecurity', 'OnlineBackup', 'InternetService', 'DeviceProtection', 'TechSupport', 'Contract', 'PaperlessBilling']\n"
     ]
    }
   ],
   "source": [
    "categorical.remove('Churn')\n",
    "# We are excluding Churn Value column as we already did the visualization needed on it\n",
    "\n",
    "print(continuous)\n",
    "print('\\n')\n",
    "print(categorical)"
   ]
  },
  {
   "cell_type": "markdown",
   "metadata": {},
   "source": [
    "#### Visualization for Continuous Variables\n"
   ]
  },
  {
   "cell_type": "markdown",
   "metadata": {},
   "source": [
    "we use the histogram visualization here. We have a plot of count of continuous variables against the variables themselves:"
   ]
  },
  {
   "cell_type": "code",
   "execution_count": 14,
   "metadata": {},
   "outputs": [
    {
     "data": {
      "image/png": "[encoded data removed]",
      "text/plain": [
       "<Figure size 864x720 with 6 Axes>"
      ]
     },
     "metadata": {
      "needs_background": "light"
     },
     "output_type": "display_data"
    }
   ],
   "source": [
    "train_df[continuous].hist(figsize=(12, 10),\n",
    "                          bins=20,\n",
    "                          layout=(3, 2),\n",
    "                          color='steelblue',\n",
    "                          edgecolor='firebrick',\n",
    "                          linewidth=1.5);"
   ]
  },
  {
   "cell_type": "markdown",
   "metadata": {},
   "source": [
    "From the above visuals, we have the following observations:\n",
    "* Safe for the extreme values, the tenure column is pretty uniform in distribution. Most of the customers are new ones since the largest count are those with tenure months=1. We also have pretty much loyal customers with tenure months above 60 months\n",
    "* The monthly charges are fairly uniform in distribution(safe for the minimum value)"
   ]
  },
  {
   "cell_type": "code",
   "execution_count": 15,
   "metadata": {},
   "outputs": [
    {
     "data": {
      "text/plain": [
       "<AxesSubplot:xlabel='Churn', ylabel='tenure'>"
      ]
     },
     "execution_count": 15,
     "metadata": {},
     "output_type": "execute_result"
    },
    {
     "data": {
      "image/png": "[encoded data removed]",
      "text/plain": [
       "<Figure size 720x720 with 1 Axes>"
      ]
     },
     "metadata": {
      "needs_background": "light"
     },
     "output_type": "display_data"
    }
   ],
   "source": [
    "plt.figure(figsize=(10,10))\n",
    "sns.boxplot(x='Churn', y='tenure', data=train_df)"
   ]
  },
  {
   "cell_type": "markdown",
   "metadata": {},
   "source": [
    "There seem to be a marked difference between tenure (month) distribution and the churn value types. Customers with high tenure seem to be retained better than the new ones. This supports the saying that it is quite hard to acquire a new customer than not losing existing ones. This speaks about brand loyalty as the years roll by. Also, there are no serious outlier cases too."
   ]
  },
  {
   "cell_type": "markdown",
   "metadata": {},
   "source": [
    "For Monthly charges:"
   ]
  },
  {
   "cell_type": "code",
   "execution_count": 16,
   "metadata": {},
   "outputs": [
    {
     "data": {
      "text/plain": [
       "<AxesSubplot:xlabel='Churn', ylabel='MonthlyCharges'>"
      ]
     },
     "execution_count": 16,
     "metadata": {},
     "output_type": "execute_result"
    },
    {
     "data": {
      "image/png": "[encoded data removed]",
      "text/plain": [
       "<Figure size 720x720 with 1 Axes>"
      ]
     },
     "metadata": {
      "needs_background": "light"
     },
     "output_type": "display_data"
    }
   ],
   "source": [
    "plt.figure(figsize=(10,10))\n",
    "sns.boxplot(x='Churn', y='MonthlyCharges', data=train_df)"
   ]
  },
  {
   "cell_type": "markdown",
   "metadata": {},
   "source": [
    "This is quite interesting as we have no outliers. However,customers that have churned are the ones that pay a higher value in terms of monthly charges. This could mean they are getting same services from competitors at lower prices."
   ]
  },
  {
   "cell_type": "markdown",
   "metadata": {},
   "source": [
    "### Visualization for Categorical variables"
   ]
  },
  {
   "cell_type": "markdown",
   "metadata": {},
   "source": [
    "Here, we shall be exploring visualization with the categorical variables. Kindly recall we have a list that holds them from above. Let us drive straight into them."
   ]
  },
  {
   "cell_type": "code",
   "execution_count": 17,
   "metadata": {},
   "outputs": [
    {
     "name": "stdout",
     "output_type": "stream",
     "text": [
      "['Dependents', 'OnlineSecurity', 'OnlineBackup', 'InternetService', 'DeviceProtection', 'TechSupport', 'Contract', 'PaperlessBilling']\n"
     ]
    }
   ],
   "source": [
    "print(categorical)"
   ]
  },
  {
   "cell_type": "code",
   "execution_count": 18,
   "metadata": {},
   "outputs": [
    {
     "data": {
      "image/png": "[encoded data removed]",
      "text/plain": [
       "<Figure size 576x360 with 1 Axes>"
      ]
     },
     "metadata": {
      "needs_background": "light"
     },
     "output_type": "display_data"
    },
    {
     "data": {
      "image/png": "[encoded data removed]",
      "text/plain": [
       "<Figure size 576x360 with 1 Axes>"
      ]
     },
     "metadata": {
      "needs_background": "light"
     },
     "output_type": "display_data"
    },
    {
     "data": {
      "image/png": "[encoded data removed]",
      "text/plain": [
       "<Figure size 576x360 with 1 Axes>"
      ]
     },
     "metadata": {
      "needs_background": "light"
     },
     "output_type": "display_data"
    },
    {
     "data": {
      "image/png": "[encoded data removed]",
      "text/plain": [
       "<Figure size 576x360 with 1 Axes>"
      ]
     },
     "metadata": {
      "needs_background": "light"
     },
     "output_type": "display_data"
    },
    {
     "data": {
      "image/png": "[encoded data removed]",
      "text/plain": [
       "<Figure size 576x360 with 1 Axes>"
      ]
     },
     "metadata": {
      "needs_background": "light"
     },
     "output_type": "display_data"
    },
    {
     "data": {
      "image/png": "[encoded data removed]",
      "text/plain": [
       "<Figure size 576x360 with 1 Axes>"
      ]
     },
     "metadata": {
      "needs_background": "light"
     },
     "output_type": "display_data"
    },
    {
     "data": {
      "image/png": "[encoded data removed]",
      "text/plain": [
       "<Figure size 576x360 with 1 Axes>"
      ]
     },
     "metadata": {
      "needs_background": "light"
     },
     "output_type": "display_data"
    },
    {
     "data": {
      "image/png": "[encoded data removed]",
      "text/plain": [
       "<Figure size 576x360 with 1 Axes>"
      ]
     },
     "metadata": {
      "needs_background": "light"
     },
     "output_type": "display_data"
    }
   ],
   "source": [
    "for col in categorical:\n",
    "    fig = plt.figure(figsize=(8,5))\n",
    "    sns.countplot( data = train_df, x = train_df[col],hue='Churn',palette=['#00A5E0', '#DD403A'])"
   ]
  },
  {
   "cell_type": "markdown",
   "metadata": {},
   "source": [
    "We notice the following points about the categorical variables:\n",
    "* Most Customers are without dependents. Furthermore, those without dependents are less likely to churn\n",
    "* Fiber optic is the most popular internet service. Intrestingly, some customers do not use the internet service of the company. Customers who use the fibre optic internet service are  markedly likely to churn\n",
    "* Surprisingly, for those that use the internet service, most do not have online security. Most customers with no oline security are likely to churn.\n",
    "* For customers that use the internet service, most do not have an online or cloud backup. Hence it is very key to maintain excellent service levels at all times since this can easily cause frustration. Customers without online backup are likely churners\n",
    "* Most customers with internet service have no device protection. Although this is not really clearly marked. However, the bulk of churners here have no device protection. Having no tech support supports churning.\n",
    "* Most customers with internet service have no tech support. This is worrisome as the bulk of churners here have no device protection\n",
    "* Most customers are on a month-to-month contract.\n",
    "* Most customers do not subscribe to payperless billing. Hence, payment information details within the company's architecture should be excellent to avoid litigation"
   ]
  },
  {
   "cell_type": "code",
   "execution_count": 19,
   "metadata": {},
   "outputs": [
    {
     "data": {
      "text/plain": [
       "(3882, 11)"
      ]
     },
     "execution_count": 19,
     "metadata": {},
     "output_type": "execute_result"
    }
   ],
   "source": [
    "#Let us check the shape of the train datasets.\n",
    "train_df.shape"
   ]
  },
  {
   "cell_type": "markdown",
   "metadata": {},
   "source": [
    "## Data Processing"
   ]
  },
  {
   "cell_type": "markdown",
   "metadata": {},
   "source": [
    "Here, we are concerned with turning features( especially categorical features) into machine readable format. This is essential so as to make our models work with these feastures. At present, there are 8 variables that are categorical which we might want to pre-process. Kindly recall that we have dropped some columns earlier with the reasons for dropping adequately stated."
   ]
  },
  {
   "cell_type": "markdown",
   "metadata": {},
   "source": [
    "### Categorical Features Selection"
   ]
  },
  {
   "cell_type": "markdown",
   "metadata": {},
   "source": [
    "What we want to do here is to check for continuous variables that can be dropped using their distribution types. By confirming their p-value and chi square value, we can decide to drop them if they are well below defined ranges. We can do that as follows:\n"
   ]
  },
  {
   "cell_type": "code",
   "execution_count": 20,
   "metadata": {},
   "outputs": [
    {
     "data": {
      "text/html": [
       "<div>\n",
       "<style scoped>\n",
       "    .dataframe tbody tr th:only-of-type {\n",
       "        vertical-align: middle;\n",
       "    }\n",
       "\n",
       "    .dataframe tbody tr th {\n",
       "        vertical-align: top;\n",
       "    }\n",
       "\n",
       "    .dataframe thead th {\n",
       "        text-align: right;\n",
       "    }\n",
       "</style>\n",
       "<table border=\"1\" class=\"dataframe\">\n",
       "  <thead>\n",
       "    <tr style=\"text-align: right;\">\n",
       "      <th></th>\n",
       "      <th>Variable</th>\n",
       "      <th>Chi-square</th>\n",
       "      <th>p-value</th>\n",
       "    </tr>\n",
       "  </thead>\n",
       "  <tbody>\n",
       "    <tr>\n",
       "      <th>6</th>\n",
       "      <td>Contract</td>\n",
       "      <td>671.795849</td>\n",
       "      <td>1.322467e-146</td>\n",
       "    </tr>\n",
       "    <tr>\n",
       "      <th>1</th>\n",
       "      <td>OnlineSecurity</td>\n",
       "      <td>448.310267</td>\n",
       "      <td>4.473655e-98</td>\n",
       "    </tr>\n",
       "    <tr>\n",
       "      <th>3</th>\n",
       "      <td>InternetService</td>\n",
       "      <td>424.195698</td>\n",
       "      <td>7.710358e-93</td>\n",
       "    </tr>\n",
       "    <tr>\n",
       "      <th>5</th>\n",
       "      <td>TechSupport</td>\n",
       "      <td>422.259791</td>\n",
       "      <td>2.029792e-92</td>\n",
       "    </tr>\n",
       "    <tr>\n",
       "      <th>2</th>\n",
       "      <td>OnlineBackup</td>\n",
       "      <td>349.233800</td>\n",
       "      <td>1.461651e-76</td>\n",
       "    </tr>\n",
       "    <tr>\n",
       "      <th>4</th>\n",
       "      <td>DeviceProtection</td>\n",
       "      <td>284.836244</td>\n",
       "      <td>1.407977e-62</td>\n",
       "    </tr>\n",
       "    <tr>\n",
       "      <th>7</th>\n",
       "      <td>PaperlessBilling</td>\n",
       "      <td>129.148711</td>\n",
       "      <td>6.292289e-30</td>\n",
       "    </tr>\n",
       "    <tr>\n",
       "      <th>0</th>\n",
       "      <td>Dependents</td>\n",
       "      <td>113.561616</td>\n",
       "      <td>1.625508e-26</td>\n",
       "    </tr>\n",
       "  </tbody>\n",
       "</table>\n",
       "</div>"
      ],
      "text/plain": [
       "           Variable  Chi-square        p-value\n",
       "6          Contract  671.795849  1.322467e-146\n",
       "1    OnlineSecurity  448.310267   4.473655e-98\n",
       "3   InternetService  424.195698   7.710358e-93\n",
       "5       TechSupport  422.259791   2.029792e-92\n",
       "2      OnlineBackup  349.233800   1.461651e-76\n",
       "4  DeviceProtection  284.836244   1.407977e-62\n",
       "7  PaperlessBilling  129.148711   6.292289e-30\n",
       "0        Dependents  113.561616   1.625508e-26"
      ]
     },
     "execution_count": 20,
     "metadata": {},
     "output_type": "execute_result"
    }
   ],
   "source": [
    "#We start by importing the stat package to use\n",
    "from scipy.stats import chi2_contingency\n",
    "chi2_array, p_array = [], []\n",
    "for column in categorical:\n",
    "\n",
    "    crosstab = pd.crosstab(train_df[column], train_df['Churn'])\n",
    "    chi2, p, dof, expected = chi2_contingency(crosstab)\n",
    "    chi2_array.append(chi2)\n",
    "    p_array.append(p)\n",
    "\n",
    "df_chi = pd.DataFrame({\n",
    "    'Variable': categorical,\n",
    "    'Chi-square': chi2_array,\n",
    "    'p-value': p_array\n",
    "})\n",
    "df_chi.sort_values(by='Chi-square', ascending=False)"
   ]
  },
  {
   "cell_type": "markdown",
   "metadata": {},
   "source": [
    "As we can see, none of these variables has chi square value with p-values less than 0.05."
   ]
  },
  {
   "cell_type": "markdown",
   "metadata": {},
   "source": [
    "#### Categorical Features Enconding"
   ]
  },
  {
   "cell_type": "markdown",
   "metadata": {},
   "source": [
    "The choice encoder here would be the one-hot encoding method. This is preferred to label encoding as it does not have rank problems since our columns are not even ordinal. We proceed as follows:"
   ]
  },
  {
   "cell_type": "code",
   "execution_count": 21,
   "metadata": {},
   "outputs": [
    {
     "data": {
      "text/html": [
       "<div>\n",
       "<style scoped>\n",
       "    .dataframe tbody tr th:only-of-type {\n",
       "        vertical-align: middle;\n",
       "    }\n",
       "\n",
       "    .dataframe tbody tr th {\n",
       "        vertical-align: top;\n",
       "    }\n",
       "\n",
       "    .dataframe thead th {\n",
       "        text-align: right;\n",
       "    }\n",
       "</style>\n",
       "<table border=\"1\" class=\"dataframe\">\n",
       "  <thead>\n",
       "    <tr style=\"text-align: right;\">\n",
       "      <th></th>\n",
       "      <th>tenure</th>\n",
       "      <th>MonthlyCharges</th>\n",
       "      <th>Churn_Yes</th>\n",
       "      <th>Dependents_Yes</th>\n",
       "      <th>InternetService_Fiber optic</th>\n",
       "      <th>InternetService_No</th>\n",
       "      <th>OnlineSecurity_No internet service</th>\n",
       "      <th>OnlineSecurity_Yes</th>\n",
       "      <th>OnlineBackup_No internet service</th>\n",
       "      <th>OnlineBackup_Yes</th>\n",
       "      <th>DeviceProtection_No internet service</th>\n",
       "      <th>DeviceProtection_Yes</th>\n",
       "      <th>TechSupport_No internet service</th>\n",
       "      <th>TechSupport_Yes</th>\n",
       "      <th>Contract_One year</th>\n",
       "      <th>Contract_Two year</th>\n",
       "      <th>PaperlessBilling_Yes</th>\n",
       "    </tr>\n",
       "  </thead>\n",
       "  <tbody>\n",
       "    <tr>\n",
       "      <th>0</th>\n",
       "      <td>35</td>\n",
       "      <td>108.35</td>\n",
       "      <td>0</td>\n",
       "      <td>0</td>\n",
       "      <td>1</td>\n",
       "      <td>0</td>\n",
       "      <td>0</td>\n",
       "      <td>1</td>\n",
       "      <td>0</td>\n",
       "      <td>1</td>\n",
       "      <td>0</td>\n",
       "      <td>1</td>\n",
       "      <td>0</td>\n",
       "      <td>0</td>\n",
       "      <td>1</td>\n",
       "      <td>0</td>\n",
       "      <td>1</td>\n",
       "    </tr>\n",
       "    <tr>\n",
       "      <th>1</th>\n",
       "      <td>46</td>\n",
       "      <td>69.10</td>\n",
       "      <td>0</td>\n",
       "      <td>0</td>\n",
       "      <td>0</td>\n",
       "      <td>0</td>\n",
       "      <td>0</td>\n",
       "      <td>0</td>\n",
       "      <td>0</td>\n",
       "      <td>0</td>\n",
       "      <td>0</td>\n",
       "      <td>1</td>\n",
       "      <td>0</td>\n",
       "      <td>1</td>\n",
       "      <td>1</td>\n",
       "      <td>0</td>\n",
       "      <td>1</td>\n",
       "    </tr>\n",
       "    <tr>\n",
       "      <th>2</th>\n",
       "      <td>4</td>\n",
       "      <td>70.20</td>\n",
       "      <td>0</td>\n",
       "      <td>0</td>\n",
       "      <td>1</td>\n",
       "      <td>0</td>\n",
       "      <td>0</td>\n",
       "      <td>0</td>\n",
       "      <td>0</td>\n",
       "      <td>0</td>\n",
       "      <td>0</td>\n",
       "      <td>0</td>\n",
       "      <td>0</td>\n",
       "      <td>0</td>\n",
       "      <td>0</td>\n",
       "      <td>0</td>\n",
       "      <td>1</td>\n",
       "    </tr>\n",
       "    <tr>\n",
       "      <th>3</th>\n",
       "      <td>20</td>\n",
       "      <td>79.15</td>\n",
       "      <td>1</td>\n",
       "      <td>0</td>\n",
       "      <td>1</td>\n",
       "      <td>0</td>\n",
       "      <td>0</td>\n",
       "      <td>1</td>\n",
       "      <td>0</td>\n",
       "      <td>0</td>\n",
       "      <td>0</td>\n",
       "      <td>0</td>\n",
       "      <td>0</td>\n",
       "      <td>0</td>\n",
       "      <td>0</td>\n",
       "      <td>0</td>\n",
       "      <td>1</td>\n",
       "    </tr>\n",
       "    <tr>\n",
       "      <th>4</th>\n",
       "      <td>67</td>\n",
       "      <td>72.35</td>\n",
       "      <td>0</td>\n",
       "      <td>0</td>\n",
       "      <td>0</td>\n",
       "      <td>0</td>\n",
       "      <td>0</td>\n",
       "      <td>1</td>\n",
       "      <td>0</td>\n",
       "      <td>0</td>\n",
       "      <td>0</td>\n",
       "      <td>1</td>\n",
       "      <td>0</td>\n",
       "      <td>1</td>\n",
       "      <td>1</td>\n",
       "      <td>0</td>\n",
       "      <td>1</td>\n",
       "    </tr>\n",
       "  </tbody>\n",
       "</table>\n",
       "</div>"
      ],
      "text/plain": [
       "   tenure  MonthlyCharges  Churn_Yes  Dependents_Yes  \\\n",
       "0      35          108.35          0               0   \n",
       "1      46           69.10          0               0   \n",
       "2       4           70.20          0               0   \n",
       "3      20           79.15          1               0   \n",
       "4      67           72.35          0               0   \n",
       "\n",
       "   InternetService_Fiber optic  InternetService_No  \\\n",
       "0                            1                   0   \n",
       "1                            0                   0   \n",
       "2                            1                   0   \n",
       "3                            1                   0   \n",
       "4                            0                   0   \n",
       "\n",
       "   OnlineSecurity_No internet service  OnlineSecurity_Yes  \\\n",
       "0                                   0                   1   \n",
       "1                                   0                   0   \n",
       "2                                   0                   0   \n",
       "3                                   0                   1   \n",
       "4                                   0                   1   \n",
       "\n",
       "   OnlineBackup_No internet service  OnlineBackup_Yes  \\\n",
       "0                                 0                 1   \n",
       "1                                 0                 0   \n",
       "2                                 0                 0   \n",
       "3                                 0                 0   \n",
       "4                                 0                 0   \n",
       "\n",
       "   DeviceProtection_No internet service  DeviceProtection_Yes  \\\n",
       "0                                     0                     1   \n",
       "1                                     0                     1   \n",
       "2                                     0                     0   \n",
       "3                                     0                     0   \n",
       "4                                     0                     1   \n",
       "\n",
       "   TechSupport_No internet service  TechSupport_Yes  Contract_One year  \\\n",
       "0                                0                0                  1   \n",
       "1                                0                1                  1   \n",
       "2                                0                0                  0   \n",
       "3                                0                0                  0   \n",
       "4                                0                1                  1   \n",
       "\n",
       "   Contract_Two year  PaperlessBilling_Yes  \n",
       "0                  0                     1  \n",
       "1                  0                     1  \n",
       "2                  0                     1  \n",
       "3                  0                     1  \n",
       "4                  0                     1  "
      ]
     },
     "execution_count": 21,
     "metadata": {},
     "output_type": "execute_result"
    }
   ],
   "source": [
    "#we start by passing the columns we want to encode(one hot encoding into a list)\n",
    "oh=['Churn', 'Dependents', 'InternetService', 'OnlineSecurity', 'OnlineBackup', 'DeviceProtection', 'TechSupport', 'Contract', 'PaperlessBilling']\n",
    "train_enc = pd.get_dummies(train_df, columns=oh, drop_first=True)\n",
    "test_enc = pd.get_dummies(test_df, columns=oh, drop_first=True)\n",
    "train_enc.head()"
   ]
  },
  {
   "cell_type": "markdown",
   "metadata": {},
   "source": [
    "### Scaling of Continuous Variable"
   ]
  },
  {
   "cell_type": "markdown",
   "metadata": {},
   "source": [
    "Now, we want to scale the continuous variables. This aims to change the range of values. We are going to use the standard scaler here as follows:"
   ]
  },
  {
   "cell_type": "code",
   "execution_count": 22,
   "metadata": {},
   "outputs": [
    {
     "name": "stdout",
     "output_type": "stream",
     "text": [
      "['tenure', 'MonthlyCharges']\n"
     ]
    }
   ],
   "source": [
    "print(continuous)"
   ]
  },
  {
   "cell_type": "code",
   "execution_count": 23,
   "metadata": {},
   "outputs": [],
   "source": [
    "# We start by importing the standard scaler from scikit learn.\n",
    "from sklearn.preprocessing import StandardScaler\n",
    "scaler = StandardScaler()\n",
    "\n",
    "\n",
    "train_enc[continuous] = scaler.fit_transform(train_enc[continuous])\n",
    "test_enc[continuous] = scaler.fit_transform(test_enc[continuous])"
   ]
  },
  {
   "cell_type": "code",
   "execution_count": 24,
   "metadata": {},
   "outputs": [
    {
     "data": {
      "text/html": [
       "<div>\n",
       "<style scoped>\n",
       "    .dataframe tbody tr th:only-of-type {\n",
       "        vertical-align: middle;\n",
       "    }\n",
       "\n",
       "    .dataframe tbody tr th {\n",
       "        vertical-align: top;\n",
       "    }\n",
       "\n",
       "    .dataframe thead th {\n",
       "        text-align: right;\n",
       "    }\n",
       "</style>\n",
       "<table border=\"1\" class=\"dataframe\">\n",
       "  <thead>\n",
       "    <tr style=\"text-align: right;\">\n",
       "      <th></th>\n",
       "      <th>tenure</th>\n",
       "      <th>MonthlyCharges</th>\n",
       "      <th>Churn_Yes</th>\n",
       "      <th>Dependents_Yes</th>\n",
       "      <th>InternetService_Fiber optic</th>\n",
       "      <th>InternetService_No</th>\n",
       "      <th>OnlineSecurity_No internet service</th>\n",
       "      <th>OnlineSecurity_Yes</th>\n",
       "      <th>OnlineBackup_No internet service</th>\n",
       "      <th>OnlineBackup_Yes</th>\n",
       "      <th>DeviceProtection_No internet service</th>\n",
       "      <th>DeviceProtection_Yes</th>\n",
       "      <th>TechSupport_No internet service</th>\n",
       "      <th>TechSupport_Yes</th>\n",
       "      <th>Contract_One year</th>\n",
       "      <th>Contract_Two year</th>\n",
       "      <th>PaperlessBilling_Yes</th>\n",
       "    </tr>\n",
       "  </thead>\n",
       "  <tbody>\n",
       "    <tr>\n",
       "      <th>0</th>\n",
       "      <td>0.095013</td>\n",
       "      <td>1.454688</td>\n",
       "      <td>0</td>\n",
       "      <td>0</td>\n",
       "      <td>1</td>\n",
       "      <td>0</td>\n",
       "      <td>0</td>\n",
       "      <td>1</td>\n",
       "      <td>0</td>\n",
       "      <td>1</td>\n",
       "      <td>0</td>\n",
       "      <td>1</td>\n",
       "      <td>0</td>\n",
       "      <td>0</td>\n",
       "      <td>1</td>\n",
       "      <td>0</td>\n",
       "      <td>1</td>\n",
       "    </tr>\n",
       "    <tr>\n",
       "      <th>1</th>\n",
       "      <td>0.545667</td>\n",
       "      <td>0.137759</td>\n",
       "      <td>0</td>\n",
       "      <td>0</td>\n",
       "      <td>0</td>\n",
       "      <td>0</td>\n",
       "      <td>0</td>\n",
       "      <td>0</td>\n",
       "      <td>0</td>\n",
       "      <td>0</td>\n",
       "      <td>0</td>\n",
       "      <td>1</td>\n",
       "      <td>0</td>\n",
       "      <td>1</td>\n",
       "      <td>1</td>\n",
       "      <td>0</td>\n",
       "      <td>1</td>\n",
       "    </tr>\n",
       "    <tr>\n",
       "      <th>2</th>\n",
       "      <td>-1.175013</td>\n",
       "      <td>0.174667</td>\n",
       "      <td>0</td>\n",
       "      <td>0</td>\n",
       "      <td>1</td>\n",
       "      <td>0</td>\n",
       "      <td>0</td>\n",
       "      <td>0</td>\n",
       "      <td>0</td>\n",
       "      <td>0</td>\n",
       "      <td>0</td>\n",
       "      <td>0</td>\n",
       "      <td>0</td>\n",
       "      <td>0</td>\n",
       "      <td>0</td>\n",
       "      <td>0</td>\n",
       "      <td>1</td>\n",
       "    </tr>\n",
       "    <tr>\n",
       "      <th>3</th>\n",
       "      <td>-0.519516</td>\n",
       "      <td>0.474960</td>\n",
       "      <td>1</td>\n",
       "      <td>0</td>\n",
       "      <td>1</td>\n",
       "      <td>0</td>\n",
       "      <td>0</td>\n",
       "      <td>1</td>\n",
       "      <td>0</td>\n",
       "      <td>0</td>\n",
       "      <td>0</td>\n",
       "      <td>0</td>\n",
       "      <td>0</td>\n",
       "      <td>0</td>\n",
       "      <td>0</td>\n",
       "      <td>0</td>\n",
       "      <td>1</td>\n",
       "    </tr>\n",
       "    <tr>\n",
       "      <th>4</th>\n",
       "      <td>1.406008</td>\n",
       "      <td>0.246805</td>\n",
       "      <td>0</td>\n",
       "      <td>0</td>\n",
       "      <td>0</td>\n",
       "      <td>0</td>\n",
       "      <td>0</td>\n",
       "      <td>1</td>\n",
       "      <td>0</td>\n",
       "      <td>0</td>\n",
       "      <td>0</td>\n",
       "      <td>1</td>\n",
       "      <td>0</td>\n",
       "      <td>1</td>\n",
       "      <td>1</td>\n",
       "      <td>0</td>\n",
       "      <td>1</td>\n",
       "    </tr>\n",
       "  </tbody>\n",
       "</table>\n",
       "</div>"
      ],
      "text/plain": [
       "     tenure  MonthlyCharges  Churn_Yes  Dependents_Yes  \\\n",
       "0  0.095013        1.454688          0               0   \n",
       "1  0.545667        0.137759          0               0   \n",
       "2 -1.175013        0.174667          0               0   \n",
       "3 -0.519516        0.474960          1               0   \n",
       "4  1.406008        0.246805          0               0   \n",
       "\n",
       "   InternetService_Fiber optic  InternetService_No  \\\n",
       "0                            1                   0   \n",
       "1                            0                   0   \n",
       "2                            1                   0   \n",
       "3                            1                   0   \n",
       "4                            0                   0   \n",
       "\n",
       "   OnlineSecurity_No internet service  OnlineSecurity_Yes  \\\n",
       "0                                   0                   1   \n",
       "1                                   0                   0   \n",
       "2                                   0                   0   \n",
       "3                                   0                   1   \n",
       "4                                   0                   1   \n",
       "\n",
       "   OnlineBackup_No internet service  OnlineBackup_Yes  \\\n",
       "0                                 0                 1   \n",
       "1                                 0                 0   \n",
       "2                                 0                 0   \n",
       "3                                 0                 0   \n",
       "4                                 0                 0   \n",
       "\n",
       "   DeviceProtection_No internet service  DeviceProtection_Yes  \\\n",
       "0                                     0                     1   \n",
       "1                                     0                     1   \n",
       "2                                     0                     0   \n",
       "3                                     0                     0   \n",
       "4                                     0                     1   \n",
       "\n",
       "   TechSupport_No internet service  TechSupport_Yes  Contract_One year  \\\n",
       "0                                0                0                  1   \n",
       "1                                0                1                  1   \n",
       "2                                0                0                  0   \n",
       "3                                0                0                  0   \n",
       "4                                0                1                  1   \n",
       "\n",
       "   Contract_Two year  PaperlessBilling_Yes  \n",
       "0                  0                     1  \n",
       "1                  0                     1  \n",
       "2                  0                     1  \n",
       "3                  0                     1  \n",
       "4                  0                     1  "
      ]
     },
     "execution_count": 24,
     "metadata": {},
     "output_type": "execute_result"
    }
   ],
   "source": [
    "train_enc.head() "
   ]
  },
  {
   "cell_type": "code",
   "execution_count": 32,
   "metadata": {},
   "outputs": [],
   "source": [
    "train_enc.rename(columns = {'Churn_Yes':'Churn'}, inplace = True)\n",
    "test_enc.rename(columns = {'Churn_Yes':'Churn'}, inplace = True)\n"
   ]
  },
  {
   "cell_type": "code",
   "execution_count": 33,
   "metadata": {},
   "outputs": [
    {
     "data": {
      "text/plain": [
       "0    2859\n",
       "1    1023\n",
       "Name: Churn, dtype: int64"
      ]
     },
     "execution_count": 33,
     "metadata": {},
     "output_type": "execute_result"
    }
   ],
   "source": [
    "train_enc['Churn'].value_counts()"
   ]
  },
  {
   "cell_type": "markdown",
   "metadata": {},
   "source": [
    "### Splitting train set into variables"
   ]
  },
  {
   "cell_type": "markdown",
   "metadata": {},
   "source": [
    "We can now proceed to split the train set into variables as follows. Kindly recall that the target variable which us the churn value is the target variable."
   ]
  },
  {
   "cell_type": "code",
   "execution_count": 34,
   "metadata": {},
   "outputs": [],
   "source": [
    "y_train = train_enc['Churn']\n",
    "x_train = train_enc.drop('Churn', 1)\n"
   ]
  },
  {
   "cell_type": "code",
   "execution_count": 35,
   "metadata": {},
   "outputs": [],
   "source": [
    "y_test = test_enc['Churn']\n",
    "x_test = test_enc.drop('Churn', 1)"
   ]
  },
  {
   "cell_type": "markdown",
   "metadata": {},
   "source": [
    "## Dealing With Class imbalance"
   ]
  },
  {
   "cell_type": "markdown",
   "metadata": {},
   "source": [
    "Kindly remember from above that the target variable has a kind of imbalance with one type of the class overly outweighing the order. To deal with this, we use SMOTE ('Synthetic Minority Oversampling Technique') algorithm.\n",
    "\n",
    "It is necessary to do this because we need to prevent the models from leaning on to the majority while predicting. Let us take a look at the imbalance once more:"
   ]
  },
  {
   "cell_type": "code",
   "execution_count": 36,
   "metadata": {},
   "outputs": [
    {
     "data": {
      "image/png": "[encoded data removed]",
      "text/plain": [
       "<Figure size 432x432 with 1 Axes>"
      ]
     },
     "metadata": {
      "needs_background": "light"
     },
     "output_type": "display_data"
    }
   ],
   "source": [
    "fig, ax = plt.subplots(figsize=(6, 6))\n",
    "\n",
    "sns.countplot(x='Churn', data=train_df, palette=['#00A5E0', '#DD403A'], ax=ax)\n",
    "ax.set_xticklabels(['Retained', 'Churned'])\n",
    "ax.set_xlabel('Status')\n",
    "ax.set_ylabel('Count');\n",
    "ax.set_ylim([0, 5000]);"
   ]
  },
  {
   "cell_type": "code",
   "execution_count": 37,
   "metadata": {},
   "outputs": [
    {
     "name": "stdout",
     "output_type": "stream",
     "text": [
      "Requirement already satisfied: imblearn in c:\\users\\omotayowaheed\\appdata\\local\\programs\\pythoncodingpack\\lib\\site-packages (0.0)\n",
      "Requirement already satisfied: imbalanced-learn in c:\\users\\omotayowaheed\\appdata\\local\\programs\\pythoncodingpack\\lib\\site-packages (from imblearn) (0.9.1)\n",
      "Requirement already satisfied: scikit-learn>=1.1.0 in c:\\users\\omotayowaheed\\appdata\\local\\programs\\pythoncodingpack\\lib\\site-packages (from imbalanced-learn->imblearn) (1.1.2)\n",
      "Requirement already satisfied: joblib>=1.0.0 in c:\\users\\omotayowaheed\\appdata\\local\\programs\\pythoncodingpack\\lib\\site-packages (from imbalanced-learn->imblearn) (1.2.0)\n",
      "Requirement already satisfied: numpy>=1.17.3 in c:\\users\\omotayowaheed\\appdata\\local\\programs\\pythoncodingpack\\lib\\site-packages (from imbalanced-learn->imblearn) (1.19.1)\n",
      "Requirement already satisfied: threadpoolctl>=2.0.0 in c:\\users\\omotayowaheed\\appdata\\local\\programs\\pythoncodingpack\\lib\\site-packages (from imbalanced-learn->imblearn) (2.1.0)\n",
      "Requirement already satisfied: scipy>=1.3.2 in c:\\users\\omotayowaheed\\appdata\\local\\programs\\pythoncodingpack\\lib\\site-packages (from imbalanced-learn->imblearn) (1.5.2)\n",
      "Note: you may need to restart the kernel to use updated packages.\n"
     ]
    },
    {
     "name": "stderr",
     "output_type": "stream",
     "text": [
      "WARNING: You are using pip version 20.1.1; however, version 22.3 is available.\n",
      "You should consider upgrading via the 'c:\\Users\\OmotayoWaheed\\AppData\\Local\\Programs\\PythonCodingPack\\python.exe -m pip install --upgrade pip' command.\n"
     ]
    }
   ],
   "source": [
    "%pip install imblearn"
   ]
  },
  {
   "cell_type": "code",
   "execution_count": 38,
   "metadata": {},
   "outputs": [
    {
     "data": {
      "text/plain": [
       "1    2859\n",
       "0    2859\n",
       "Name: Churn, dtype: int64"
      ]
     },
     "execution_count": 38,
     "metadata": {},
     "output_type": "execute_result"
    }
   ],
   "source": [
    "from imblearn.over_sampling import SMOTE\n",
    "over = SMOTE(sampling_strategy='auto', random_state=42)\n",
    "x_train, y_train = over.fit_resample(x_train, y_train)\n",
    "y_train.value_counts()"
   ]
  },
  {
   "cell_type": "code",
   "execution_count": 39,
   "metadata": {},
   "outputs": [
    {
     "data": {
      "text/plain": [
       "(5718, 16)"
      ]
     },
     "execution_count": 39,
     "metadata": {},
     "output_type": "execute_result"
    }
   ],
   "source": [
    "x_train.shape"
   ]
  },
  {
   "cell_type": "code",
   "execution_count": 40,
   "metadata": {},
   "outputs": [
    {
     "data": {
      "text/plain": [
       "(5718,)"
      ]
     },
     "execution_count": 40,
     "metadata": {},
     "output_type": "execute_result"
    }
   ],
   "source": [
    "y_train.shape"
   ]
  },
  {
   "cell_type": "markdown",
   "metadata": {},
   "source": [
    "From the above, we can see that the values have been correctly made up by SMOTE and now, the class imbalance is gone"
   ]
  },
  {
   "cell_type": "markdown",
   "metadata": {},
   "source": [
    "## Models Building"
   ]
  },
  {
   "cell_type": "markdown",
   "metadata": {},
   "source": [
    "### Baseline Model"
   ]
  },
  {
   "cell_type": "markdown",
   "metadata": {},
   "source": [
    "A baseline model is a sort of reference to which we know how good or bad our model has fared based on particular metrics. The metric to use here is the **f1 score**. A rule of thumb is that our models must perform better than the baseline model. In an instance where this is not in play, then the model has fared really bad and we should make an overall check as to what might be the problem.\n",
    "\n",
    "We compute the baseline model as follows;"
   ]
  },
  {
   "cell_type": "markdown",
   "metadata": {},
   "source": [
    "* Precision = tp/(tp+fp)\n",
    "\n",
    "* Recall =tp/(tp+fn)\n",
    "\n",
    "* f1=(2 * Precision * Recall)/(Precision + Recall)"
   ]
  },
  {
   "cell_type": "markdown",
   "metadata": {},
   "source": [
    "We go ahead to do this for the two categories of churn values, then we get the average of the two f1 scores."
   ]
  },
  {
   "cell_type": "code",
   "execution_count": 41,
   "metadata": {},
   "outputs": [
    {
     "data": {
      "text/plain": [
       "0    2859\n",
       "1    1023\n",
       "Name: Churn, dtype: int64"
      ]
     },
     "execution_count": 41,
     "metadata": {},
     "output_type": "execute_result"
    }
   ],
   "source": [
    "train_enc['Churn'].value_counts()"
   ]
  },
  {
   "cell_type": "code",
   "execution_count": 42,
   "metadata": {},
   "outputs": [
    {
     "name": "stdout",
     "output_type": "stream",
     "text": [
      "0.6322461711142091\n"
     ]
    }
   ],
   "source": [
    "# When churn value == 0 (when customer is retained)\n",
    "precision_a = 4151/(4151+1474)\n",
    "recall_a = 4151/4151\n",
    "\n",
    "f1_a= (2*precision_a * recall_a)/(precision_a + recall_a)\n",
    "\n",
    "#When churn value == 1 (when customer has churned)\n",
    "precision_b= 1474/(1474+4151)\n",
    "recall_b= 1474/1474\n",
    "\n",
    "f1_b=(2 * precision_b * recall_b)/(precision_b + recall_b)\n",
    "\n",
    "#The f1 score is the average of the two\n",
    "f1 = (f1_a + f1_b)/2\n",
    "\n",
    "print(f1)"
   ]
  },
  {
   "cell_type": "markdown",
   "metadata": {},
   "source": [
    "As we can see above, the baseline model has a 63% accurracy. However, each of the model we are going to use should have an accurracy better than this. We see this in the next section"
   ]
  },
  {
   "cell_type": "markdown",
   "metadata": {},
   "source": [
    "## Model Hyper-parameter Tuning"
   ]
  },
  {
   "cell_type": "markdown",
   "metadata": {},
   "source": [
    "This is an optimization problem or issue. What we have to do here is to ensure that the hyperparameters passed into our models are the optimum values. This will ensure an accurracy of our result. \n",
    "\n",
    "Kindly recall that we have decided to use the following algorithms earlier:\n",
    "* Logistic Regression\n",
    "* Support Vector Classifier\n",
    "* Random Forest Classifier\n",
    "\n",
    "Kindly note that the optimum parameters used in this work are those that have been confirmed in other studies involving their use."
   ]
  },
  {
   "cell_type": "markdown",
   "metadata": {},
   "source": [
    "### Machine Learning Models "
   ]
  },
  {
   "cell_type": "markdown",
   "metadata": {},
   "source": [
    "#### Logistic Regression Model"
   ]
  },
  {
   "cell_type": "code",
   "execution_count": 43,
   "metadata": {},
   "outputs": [],
   "source": [
    "# We import the model from scikit learn\n",
    "from sklearn.linear_model import LogisticRegression\n",
    "\n",
    "# We import the tuning dependency\n",
    "from sklearn.model_selection import GridSearchCV\n",
    "\n",
    "#lr = LogisticRegression(random_state=42)\n",
    "\n",
    "# We pass in the optimal hyperparameters for the model\n",
    "param_grid = {\n",
    "    'max_iter': [100],\n",
    "    'penalty': ['l1','l2'],\n",
    "    'C': [0.0001, 0.001, 0.01, 0.1, 1, 10],\n",
    "    'solver': ['lbfgs', 'liblinear']\n",
    "}\n",
    "\n",
    "# We apply the optimal hyperparameter before training the model\n",
    "lr= GridSearchCV(estimator=LogisticRegression(random_state=42),\n",
    "                      param_grid=param_grid,\n",
    "                      scoring='f1',\n",
    "                      cv=5,\n",
    "                      verbose=False,\n",
    "                      n_jobs=-1)\n",
    "\n",
    "#training the algorithm with the data\n",
    "lr.fit(x_train, y_train)\n",
    "\n",
    "# creating the prediction\n",
    "y_hat1 = lr.predict(x_test)"
   ]
  },
  {
   "cell_type": "markdown",
   "metadata": {},
   "source": [
    "#### Support Vector Classifier Model"
   ]
  },
  {
   "cell_type": "code",
   "execution_count": 44,
   "metadata": {},
   "outputs": [],
   "source": [
    "#We import the model from scikit learn\n",
    "from sklearn.svm import SVC\n",
    "\n",
    "#svc = SVC(probability=True, random_state=42)\n",
    "\n",
    "\n",
    "# We pass in the optimal hyperparameters for the model\n",
    "param_grid = tuned_parameters = [{'kernel': ['rbf'],\n",
    "                                  'gamma': ['scale', 'auto'],\n",
    "                                  'C': [.1, 1, 2]},\n",
    "                                 {'kernel': ['linear'],\n",
    "                                  'C': [.1, 1, 10]}\n",
    "                                ]\n",
    "\n",
    "# We apply the optimal hyperparameter before training the model\n",
    "svc= GridSearchCV(estimator=SVC(probability=True, random_state=42),\n",
    "                       param_grid=param_grid,\n",
    "                       scoring='f1',\n",
    "                       cv=5,\n",
    "                       verbose=False,\n",
    "                       n_jobs=-1)\n",
    "\n",
    "#training the algorithm with the data\n",
    "svc.fit(x_train, y_train)\n",
    "\n",
    "# creating the prediction\n",
    "y_hat2 = svc.predict(x_test)\n",
    "\n",
    "\n",
    "\n"
   ]
  },
  {
   "cell_type": "markdown",
   "metadata": {},
   "source": [
    "#### Random Forest Classifier Model"
   ]
  },
  {
   "cell_type": "code",
   "execution_count": 45,
   "metadata": {},
   "outputs": [],
   "source": [
    "#We import the model from scikit learn\n",
    "from sklearn.ensemble import RandomForestClassifier\n",
    "\n",
    "# We pass in the optimal hyperparameters for the model\n",
    "#rf = RandomForestClassifier(random_state=42)\n",
    "param_grid = {\n",
    "    'n_estimators': [100],\n",
    "    'criterion': ['entropy', 'gini'],\n",
    "    'bootstrap': [True, False],\n",
    "    'max_depth': [6],\n",
    "    'max_features': ['auto', 'sqrt'],\n",
    "    'min_samples_leaf': [2, 3, 5],\n",
    "    'min_samples_split': [2, 3, 5]\n",
    "}\n",
    "\n",
    "## We apply the optimal hyperparameter before training the model\n",
    "rf = GridSearchCV(estimator=RandomForestClassifier(random_state=42),\n",
    "                      param_grid=param_grid,\n",
    "                      scoring='f1',\n",
    "                      cv=5,\n",
    "                      verbose=False,\n",
    "                      n_jobs=-1)\n",
    "\n",
    "#training the algorithm with the data\n",
    "rf.fit(x_train, y_train)\n",
    "\n",
    "# creating the prediction\n",
    "y_hat3 = rf.predict(x_test)\n",
    "\n",
    "\n",
    "\n"
   ]
  },
  {
   "cell_type": "markdown",
   "metadata": {},
   "source": [
    "## Models Evaluation"
   ]
  },
  {
   "cell_type": "markdown",
   "metadata": {},
   "source": [
    "The models shall be evaluated using the f1 score. We compute the evaluations as follows:"
   ]
  },
  {
   "cell_type": "code",
   "execution_count": 46,
   "metadata": {},
   "outputs": [
    {
     "name": "stdout",
     "output_type": "stream",
     "text": [
      "The f1 score for the logistic regression model is 0.6253968253968254\n",
      "The f1 score for the support vector classification  model is 0.6210191082802548\n",
      "The f1 score for the random forest classifier  model is 0.6407465007776051\n"
     ]
    }
   ],
   "source": [
    "# We start by importing the evaluating metric from scikitlearn\n",
    "from sklearn.metrics import f1_score\n",
    "\n",
    "#Logistic Regression\n",
    "f1_1 = f1_score(y_true=y_test, y_pred=y_hat1)\n",
    "print('The f1 score for the logistic regression model is {}'.format(f1_1))\n",
    "\n",
    "#Support Vector Classification\n",
    "f1_2 = f1_score(y_true=y_test, y_pred=y_hat2)\n",
    "print('The f1 score for the support vector classification  model is {}'.format(f1_2))\n",
    "\n",
    "#Random Forest Classifier\n",
    "f1_3 = f1_score(y_true=y_test, y_pred=y_hat3)\n",
    "print('The f1 score for the random forest classifier  model is {}'.format(f1_3))"
   ]
  },
  {
   "cell_type": "code",
   "execution_count": null,
   "metadata": {},
   "outputs": [],
   "source": []
  }
 ],
 "metadata": {
  "kernelspec": {
   "display_name": "Python 3.8.5 64-bit",
   "language": "python",
   "name": "python3"
  },
  "language_info": {
   "codemirror_mode": {
    "name": "ipython",
    "version": 3
   },
   "file_extension": ".py",
   "mimetype": "text/x-python",
   "name": "python",
   "nbconvert_exporter": "python",
   "pygments_lexer": "ipython3",
   "version": "3.8.5"
  },
  "orig_nbformat": 4,
  "vscode": {
   "interpreter": {
    "hash": "02b0fc118e33506ab5b66240342a0f119c6af02d6f73345eab42edd536a01e1d"
   }
  }
 },
 "nbformat": 4,
 "nbformat_minor": 2
}
